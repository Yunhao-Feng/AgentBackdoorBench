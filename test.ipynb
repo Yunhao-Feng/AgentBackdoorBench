{
 "cells": [
  {
   "cell_type": "code",
   "execution_count": 1,
   "id": "08c33203",
   "metadata": {},
   "outputs": [],
   "source": [
    "import pickle\n",
    "import numpy as np\n",
    "data = pickle.load(open(\"data/agentdriver/data/memory/database.pkl\", 'rb'))\n",
    "def gen_vector_keys(data_dict):\n",
    "    vx = data_dict['ego_states'][0]*0.5\n",
    "    vy = data_dict['ego_states'][1]*0.5\n",
    "    v_yaw = data_dict['ego_states'][4]\n",
    "    ax = data_dict['ego_hist_traj_diff'][-1, 0] - data_dict['ego_hist_traj_diff'][-2, 0]\n",
    "    ay = data_dict['ego_hist_traj_diff'][-1, 1] - data_dict['ego_hist_traj_diff'][-2, 1]\n",
    "    cx = data_dict['ego_states'][2]\n",
    "    cy = data_dict['ego_states'][3]\n",
    "    vhead = data_dict['ego_states'][7]*0.5\n",
    "    steeling = data_dict['ego_states'][8]\n",
    "\n",
    "    return [\n",
    "        np.array([vx, vy, v_yaw, ax, ay, cx, cy, vhead, steeling]),\n",
    "        data_dict['goal'],\n",
    "        data_dict['ego_hist_traj'].flatten(),\n",
    "    ]"
   ]
  },
  {
   "cell_type": "code",
   "execution_count": 3,
   "id": "e42dcba5",
   "metadata": {},
   "outputs": [
    {
     "name": "stdout",
     "output_type": "stream",
     "text": [
      "len(self.keys) 3\n",
      "len(self.values) 23388\n"
     ]
    }
   ],
   "source": [
    "temp_keys = []\n",
    "values = []\n",
    "keys = []\n",
    "tokens = []\n",
    "for token in data:\n",
    "    # print('token',token)\n",
    "    # print(\"data\", data[token])\n",
    "    # input(\"key\")\n",
    "    key_arrays = gen_vector_keys(data[token])\n",
    "    # print(\"key_arrays\", key_arrays)\n",
    "    # input()\n",
    "    if temp_keys == []:\n",
    "        temp_keys = [[] for _ in range(len(key_arrays))]\n",
    "    for i, key_array in enumerate(key_arrays):\n",
    "        temp_keys[i].append(key_array)\n",
    "    temp_value = data[token].copy()\n",
    "    temp_value.update({\"token\": token})\n",
    "    values.append(temp_value)      \n",
    "    tokens.append(token)\n",
    "    \n",
    "for temp_key in temp_keys:\n",
    "    temp_key = np.stack(temp_key, axis=0)\n",
    "    keys.append(temp_key)\n",
    "\n",
    "# for data_val in data_samples_val:\n",
    "#     values.append(\"ADV_INJECTION\")\n",
    "\n",
    "print(\"len(self.keys)\", len(keys))\n",
    "print(\"len(self.values)\", len(values))"
   ]
  },
  {
   "cell_type": "code",
   "execution_count": 7,
   "id": "eaf73f33",
   "metadata": {},
   "outputs": [
    {
     "data": {
      "text/plain": [
       "(23388, 9)"
      ]
     },
     "execution_count": 7,
     "metadata": {},
     "output_type": "execute_result"
    }
   ],
   "source": [
    "keys[0].shape"
   ]
  },
  {
   "cell_type": "code",
   "execution_count": 8,
   "id": "57cb99b0",
   "metadata": {},
   "outputs": [
    {
     "data": {
      "text/plain": [
       "23388"
      ]
     },
     "execution_count": 8,
     "metadata": {},
     "output_type": "execute_result"
    }
   ],
   "source": [
    "len(values)"
   ]
  }
 ],
 "metadata": {
  "kernelspec": {
   "display_name": "base",
   "language": "python",
   "name": "python3"
  },
  "language_info": {
   "codemirror_mode": {
    "name": "ipython",
    "version": 3
   },
   "file_extension": ".py",
   "mimetype": "text/x-python",
   "name": "python",
   "nbconvert_exporter": "python",
   "pygments_lexer": "ipython3",
   "version": "3.10.14"
  }
 },
 "nbformat": 4,
 "nbformat_minor": 5
}
